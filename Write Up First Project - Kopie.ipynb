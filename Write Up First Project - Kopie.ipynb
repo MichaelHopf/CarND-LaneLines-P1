{
 "cells": [
  {
   "cell_type": "markdown",
   "metadata": {},
   "source": [
    "# **Finding Lane Lines on the Road** \n",
    "\n",
    "## Writeup Michael Hopf\n",
    "\n",
    "\n",
    "\n",
    "\n",
    "### Reflection\n",
    "\n",
    "### 1. Describe your pipeline. As part of the description, explain how you modified the draw_lines() function.\n",
    "\n",
    "The general idea of my pipeline was as follows:\n",
    " - Grayscale the image.\n",
    " - Apply Gaussian blur.\n",
    " - Apply Canny edge detection.\n",
    " - Define two masks for the left and right lane.\n",
    " - Do the Hough transformation for each lane.\n",
    " - Define a new function that deletes line segments given by the Hough trasnformation that do not align well with the general orientation.\n",
    " - Do a weighted least squares fit with the endpoints of the remaining line segments. Longer line segments carry more weight.\n",
    " - Extrapolate the fitted lines.\n",
    "\n",
    "These steps were already sufficient to get good results on the six images. Also, applied to the first two videos, the fit was good. However, to get a nicer result, I did a convex combination of the current lanes with the lanes calcualted in the pervious frame. This way, the result was much smoother.\n",
    "\n",
    "Applying this pipeline to the challenge worked okay, but definitely much worse than for the other two videos. The main problems were the shadow as well as the bright part of the road directly afterwards. In particular, the Canny edge detection did not gather enough information to obtain good results.\n",
    "\n",
    "I applied a rather simple idea: The upper and lower endpoints of the lanes have approximately the same distance all the time. So, with a few lines of code, I included a correction after the lane computation that prevented too large changes.\n",
    "\n",
    "\n",
    "\n",
    "### 2. Identify potential shortcomings with your current pipeline\n",
    "\n",
    "\n",
    "My lanes for the challenge video are definitely improvable. They still jump around too much. Also, the fit for the other two videos seems good, but it is not completely perfect. In particular, this happens when the road is bumpy.\n",
    "\n",
    "\n",
    "### 3. Suggest possible improvements to your pipeline\n",
    "\n",
    "Some improvements one could implement:\n",
    "- The roads itself are smooth, i.e., the change of the lanes from one frame to the next should be about the same.\n",
    "- For the weighted least square fit, one could add more weight to the edges close to the car since these can be identified better.\n",
    "- The road has a fixed width. This should be of help when the information for one lane is bad but for the other one is good. Then, one could use the reliable lane to compute the other one.\n",
    "- Compare more frames than just the current one and the last one.\n"
   ]
  }
 ],
 "metadata": {
  "kernelspec": {
   "display_name": "Python 3",
   "language": "python",
   "name": "python3"
  },
  "language_info": {
   "codemirror_mode": {
    "name": "ipython",
    "version": 3
   },
   "file_extension": ".py",
   "mimetype": "text/x-python",
   "name": "python",
   "nbconvert_exporter": "python",
   "pygments_lexer": "ipython3",
   "version": "3.5.2"
  },
  "widgets": {
   "state": {},
   "version": "1.1.2"
  }
 },
 "nbformat": 4,
 "nbformat_minor": 2
}
